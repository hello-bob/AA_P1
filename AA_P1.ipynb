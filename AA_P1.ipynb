{
 "cells": [
  {
   "cell_type": "markdown",
   "id": "f115f2a3-38a9-4391-b240-33e8d9069276",
   "metadata": {
    "editable": true,
    "slideshow": {
     "slide_type": ""
    },
    "tags": []
   },
   "source": [
    "Your model will be evaluated using two metrics: profit @ top-20, and AUC. The reasons for this is to be in line with a more realistic setting. E.g. one can image data scientists in a team arguing to use AUC and optimize for that. However, as seen in the course, for this scenario, we also imagine management arguing that there is not enough budget (in terms of time and money) to contact a lot of people (or hand out a lot of promotions). Hence, they have come up with the following: based on the top-k would-be churners as predicted by your model, sum some proxy of \"retained profitability\" in case the customer was indeed a churner, or zero otherwise\n",
    "\n",
    "As a proxy of profitability, the feature average cost min was deemed to be a good value. Based on the size of the test set, k=20 was deemed to be a good choice. Hence, management cares about optimizing this metric\n",
    "Note that only about half of the test set is used for the \"public\" leaderboard. That means that the score you will see on the leaderboard is done using this part of the test only (you don't know which half). Later on through the semester, submissions are frozen and the resuls on the \"hidden\" part will be revealed\n",
    "\n",
    "Also, whilst you can definitely try, the goal is not to \"win\", but to help you reflect on your model's results, see how others are doing, etc.\n",
    "\n",
    "Objectives:\n",
    "\n",
    "Some groups prefer to write their final report using Jupyter Notebook, which is fine too, as long as it is readable top-to-bottom\n",
    "\n",
    "You can use any predictive technique/approach you want, though focus on the whole process: general setup, critical thinking, and the ability to get and validate an outcome\n",
    "\n",
    "You're free to use unsupervised technique for your data exploration part, too. When you decide to build a black box model, including some interpretability techniques to explain it is a plus\n",
    "\n",
    "Any other assumptions or insights are thoughts can be included as well: the idea is to take what we've seen in class, get your hands dirty and try out what we've seen\n",
    "\n",
    "Perform a critical review of the evaluation metric chosen by management. How in line is it with AUC? What would you have picked instead? Were there particular issues with this chosen metric, in your view?"
   ]
  },
  {
   "cell_type": "code",
   "execution_count": null,
   "id": "de0f37fc-1746-44a5-aae7-235843420f05",
   "metadata": {
    "editable": true,
    "slideshow": {
     "slide_type": ""
    },
    "tags": []
   },
   "outputs": [],
   "source": [
    "import pandas as pd\n",
    "import os"
   ]
  },
  {
   "cell_type": "markdown",
   "id": "1d296096",
   "metadata": {},
   "source": [
    "**Loading Data**"
   ]
  },
  {
   "cell_type": "code",
   "execution_count": null,
   "id": "3104c3e7",
   "metadata": {},
   "outputs": [],
   "source": [
    "# GitHib urls to fetch data from\n",
    "url_train = 'https://raw.githubusercontent.com/hello-bob/AA_P1/main/data/train.csv'\n",
    "url_test = 'https://raw.githubusercontent.com/hello-bob/AA_P1/main/data/test.csv'\n",
    "\n",
    "# Read train and test data\n",
    "train_data = pd.read_csv(url_train, sep = ',', skipinitialspace = True, engine = 'python')\n",
    "test_data  = pd.read_csv(url_test, sep = ',', skipinitialspace = True, engine = 'python')"
   ]
  },
  {
   "cell_type": "markdown",
   "id": "dfd79c8d",
   "metadata": {},
   "source": [
    "**Data exploration**"
   ]
  },
  {
   "cell_type": "code",
   "execution_count": 17,
   "id": "221e77f6",
   "metadata": {},
   "outputs": [
    {
     "name": "stdout",
     "output_type": "stream",
     "text": [
      "<class 'pandas.core.frame.DataFrame'>\n",
      "RangeIndex: 5044 entries, 0 to 5043\n",
      "Data columns (total 39 columns):\n",
      " #   Column                  Non-Null Count  Dtype  \n",
      "---  ------                  --------------  -----  \n",
      " 0   Gender                  5044 non-null   object \n",
      " 1   Age                     5044 non-null   float64\n",
      " 2   Connect_Date            5044 non-null   object \n",
      " 3   L_O_S                   5044 non-null   float64\n",
      " 4   Dropped_Calls           5044 non-null   float64\n",
      " 5   tariff                  5044 non-null   object \n",
      " 6   Handset                 5044 non-null   object \n",
      " 7   Peak_calls_Sum          5044 non-null   float64\n",
      " 8   Peak_mins_Sum           5044 non-null   float64\n",
      " 9   OffPeak_calls_Sum       5044 non-null   float64\n",
      " 10  OffPeak_mins_Sum        5044 non-null   float64\n",
      " 11  Weekend_calls_Sum       5044 non-null   float64\n",
      " 12  Weekend_mins_Sum        5044 non-null   float64\n",
      " 13  International_mins_Sum  5044 non-null   float64\n",
      " 14  Nat_call_cost_Sum       5044 non-null   float64\n",
      " 15  AvePeak                 5044 non-null   float64\n",
      " 16  AveOffPeak              5044 non-null   float64\n",
      " 17  AveWeekend              5044 non-null   float64\n",
      " 18  National_calls          5044 non-null   float64\n",
      " 19  National mins           5044 non-null   float64\n",
      " 20  AveNational             5044 non-null   float64\n",
      " 21  All_calls_mins          5044 non-null   float64\n",
      " 22  Dropped_calls_ratio     5040 non-null   float64\n",
      " 23  Usage_Band              5040 non-null   object \n",
      " 24  Mins_charge             5044 non-null   float64\n",
      " 25  call_cost_per_min       5040 non-null   float64\n",
      " 26  actual call cost        5044 non-null   float64\n",
      " 27  Total_call_cost         5044 non-null   float64\n",
      " 28  Total_Cost              5044 non-null   float64\n",
      " 29  Tariff_OK               5044 non-null   object \n",
      " 30  average cost min        5044 non-null   float64\n",
      " 31  Peak ratio              5044 non-null   float64\n",
      " 32  OffPeak ratio           5044 non-null   float64\n",
      " 33  Weekend ratio           5044 non-null   float64\n",
      " 34  Nat-InterNat Ratio      5044 non-null   float64\n",
      " 35  high Dropped calls      5044 non-null   object \n",
      " 36  No Usage                5044 non-null   object \n",
      " 37  target                  5044 non-null   int64  \n",
      " 38  id                      5044 non-null   object \n",
      "dtypes: float64(29), int64(1), object(9)\n",
      "memory usage: 1.5+ MB\n",
      "<class 'pandas.core.frame.DataFrame'>\n",
      "RangeIndex: 1682 entries, 0 to 1681\n",
      "Data columns (total 39 columns):\n",
      " #   Column                  Non-Null Count  Dtype  \n",
      "---  ------                  --------------  -----  \n",
      " 0   Gender                  1682 non-null   object \n",
      " 1   Age                     1682 non-null   float64\n",
      " 2   Connect_Date            1682 non-null   object \n",
      " 3   L_O_S                   1682 non-null   float64\n",
      " 4   Dropped_Calls           1682 non-null   float64\n",
      " 5   tariff                  1682 non-null   object \n",
      " 6   Handset                 1682 non-null   object \n",
      " 7   Peak_calls_Sum          1682 non-null   float64\n",
      " 8   Peak_mins_Sum           1682 non-null   float64\n",
      " 9   OffPeak_calls_Sum       1682 non-null   float64\n",
      " 10  OffPeak_mins_Sum        1682 non-null   float64\n",
      " 11  Weekend_calls_Sum       1682 non-null   float64\n",
      " 12  Weekend_mins_Sum        1682 non-null   float64\n",
      " 13  International_mins_Sum  1682 non-null   float64\n",
      " 14  Nat_call_cost_Sum       1682 non-null   float64\n",
      " 15  AvePeak                 1682 non-null   float64\n",
      " 16  AveOffPeak              1682 non-null   float64\n",
      " 17  AveWeekend              1682 non-null   float64\n",
      " 18  National_calls          1682 non-null   float64\n",
      " 19  National mins           1682 non-null   float64\n",
      " 20  AveNational             1682 non-null   float64\n",
      " 21  All_calls_mins          1682 non-null   float64\n",
      " 22  Dropped_calls_ratio     1681 non-null   float64\n",
      " 23  Usage_Band              1681 non-null   object \n",
      " 24  Mins_charge             1682 non-null   float64\n",
      " 25  call_cost_per_min       1681 non-null   float64\n",
      " 26  actual call cost        1682 non-null   float64\n",
      " 27  Total_call_cost         1682 non-null   float64\n",
      " 28  Total_Cost              1682 non-null   float64\n",
      " 29  Tariff_OK               1682 non-null   object \n",
      " 30  average cost min        1682 non-null   float64\n",
      " 31  Peak ratio              1682 non-null   float64\n",
      " 32  OffPeak ratio           1682 non-null   float64\n",
      " 33  Weekend ratio           1682 non-null   float64\n",
      " 34  Nat-InterNat Ratio      1682 non-null   float64\n",
      " 35  high Dropped calls      1682 non-null   object \n",
      " 36  No Usage                1682 non-null   object \n",
      " 37  id                      1682 non-null   object \n",
      " 38  target                  1682 non-null   int64  \n",
      "dtypes: float64(29), int64(1), object(9)\n",
      "memory usage: 512.6+ KB\n"
     ]
    }
   ],
   "source": [
    "# Check data types\n",
    "train_data.info()\n",
    "test_data.info()"
   ]
  },
  {
   "cell_type": "code",
   "execution_count": null,
   "id": "8e3fd7c5",
   "metadata": {},
   "outputs": [],
   "source": [
    "# Pie chart about class inbalance (train & test set both)\n",
    "# missing values\n",
    "# correlation plot"
   ]
  },
  {
   "cell_type": "markdown",
   "id": "b062db3d",
   "metadata": {},
   "source": [
    "**Data preprocessing**"
   ]
  },
  {
   "cell_type": "code",
   "execution_count": null,
   "id": "34e7b4ce",
   "metadata": {},
   "outputs": [],
   "source": [
    "# Imputing missing values\n",
    "# outliers"
   ]
  }
 ],
 "metadata": {
  "kernelspec": {
   "display_name": "Python 3 (ipykernel)",
   "language": "python",
   "name": "python3"
  },
  "language_info": {
   "codemirror_mode": {
    "name": "ipython",
    "version": 3
   },
   "file_extension": ".py",
   "mimetype": "text/x-python",
   "name": "python",
   "nbconvert_exporter": "python",
   "pygments_lexer": "ipython3",
   "version": "3.11.2"
  }
 },
 "nbformat": 4,
 "nbformat_minor": 5
}
